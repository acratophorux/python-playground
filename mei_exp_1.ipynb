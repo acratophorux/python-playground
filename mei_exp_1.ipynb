{
 "cells": [
  {
   "cell_type": "code",
   "execution_count": null,
   "metadata": {},
   "outputs": [],
   "source": [
    "temp = range(30, 80, 2)\n",
    "resistance = [0.124, 0.123, 0.124, 0.125, 0.126, 0.128, 0.129, 0.130, 0.131, 0.134, 0.135, 0.136,\n",
    "              0.137, 0.137, 0.138, 0.139, 0.140, 0.141, 0.141, 0.142, 0.143, 0.144, 0.145, 0.145, 0.146]\n"
   ]
  }
 ],
 "metadata": {
  "kernelspec": {
   "display_name": "Python 3",
   "language": "python",
   "name": "python3"
  },
  "language_info": {
   "codemirror_mode": {
    "name": "ipython",
    "version": 3
   },
   "file_extension": ".py",
   "mimetype": "text/x-python",
   "name": "python",
   "nbconvert_exporter": "python",
   "pygments_lexer": "ipython3",
   "version": "3.11.2"
  },
  "orig_nbformat": 4
 },
 "nbformat": 4,
 "nbformat_minor": 2
}
