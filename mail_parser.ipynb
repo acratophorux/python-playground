{
 "cells": [
  {
   "cell_type": "code",
   "execution_count": 1,
   "metadata": {},
   "outputs": [],
   "source": [
    "import email"
   ]
  },
  {
   "cell_type": "code",
   "execution_count": 6,
   "metadata": {},
   "outputs": [
    {
     "name": "stdout",
     "output_type": "stream",
     "text": [
      "Fwd: Menu for the Special Dinner\n"
     ]
    }
   ],
   "source": [
    "# Open the .eml file\n",
    "with open('Fwd_ Menu for the Special Dinner.eml', 'r') as f:\n",
    "    # Parse the .eml file using the email module\n",
    "    msg = email.message_from_file(f)\n",
    "\n",
    "# Print the subject of the email\n",
    "print(msg['subject'])\n",
    "\n",
    "# Print the body of the email\n",
    "\n"
   ]
  },
  {
   "cell_type": "code",
   "execution_count": 14,
   "metadata": {},
   "outputs": [
    {
     "name": "stdout",
     "output_type": "stream",
     "text": [
      "[<email.message.Message object at 0x108aba140>, <email.message.Message object at 0x108aaac50>]\n"
     ]
    }
   ],
   "source": [
    "print(msg.get_payload())"
   ]
  },
  {
   "cell_type": "code",
   "execution_count": 18,
   "metadata": {},
   "outputs": [
    {
     "name": "stdout",
     "output_type": "stream",
     "text": [
      "---------- Forwarded message ---------\n",
      "From: Mess Secretary MHR IIT Bhubaneswar <messsecretary.mhr@iitbbs.ac.in>\n",
      "Date: Wed, 28 Dec 2022, 15:02\n",
      "Subject: Menu for the Special Dinner\n",
      "To: General Secretary MHR <gsec.mhr@iitbbs.ac.in>\n",
      "\n",
      "\n",
      "Dear Residents,\n",
      "\n",
      "We will be having a special dinner this Friday (30/12/22).\n",
      "Menu for the dinner has been mentioned below :\n",
      "\n",
      "\n",
      "VEG NON VEG\n",
      "Chilli Paneer Chilli Chicken\n",
      "Kaju Paneer Chicken Kassa\n",
      "COMMON ITEMS\n",
      "Corn Fry\n",
      "Dal Fry\n",
      "Pulao\n",
      "Lachha Paratha\n",
      "Ice Cream\n",
      "Chocolate Syrup\n",
      "Hot Gulab Jamun\n",
      "Fruit Punch\n",
      "Corn Soup\n",
      "With Regards\n",
      "Chandra Sathvik\n",
      "Mess Secretary\n",
      "MHR\n",
      "\n",
      "\n",
      "------------------------------\n",
      "*Disclaimer: *This email and any files transmitted with it are confidential\n",
      "and intended solely for the use of the individual or entity to whom they\n",
      "are addressed. If you have received this email in error please notify the\n",
      "system manager. This message contains confidential information and is\n",
      "intended only for the individual named. If you are not the named addressee\n",
      "you should not disseminate, distribute or copy this e-mail. Please notify\n",
      "the sender immediately by e-mail if you have received this e-mail by\n",
      "mistake and delete this e-mail from your system. If you are not the\n",
      "intended recipient you are notified that disclosing, copying, distributing\n",
      "or taking any action in reliance on the contents of this information is\n",
      "strictly prohibited.\n",
      "\n",
      "-- \n",
      "*Disclaimer: *This email and any files transmitted with it are confidential \n",
      "and intended solely for the use of the individual or entity to whom they \n",
      "are addressed. If you have received this email in error please notify the \n",
      "system manager. This message contains confidential information and is \n",
      "intended only for the individual named. If you are not the named addressee \n",
      "you should not disseminate, distribute or copy this e-mail. Please notify \n",
      "the sender immediately by e-mail if you have received this e-mail by \n",
      "mistake and delete this e-mail from your system. If you are not the \n",
      "intended recipient you are notified that disclosing, copying, distributing \n",
      "or taking any action in reliance on the contents of this information is \n",
      "strictly prohibited.\n",
      "\n",
      "-- \n",
      "*Disclaimer: *This email and any files transmitted with it are confidential \n",
      "and intended solely for the use of the individual or entity to whom they \n",
      "are addressed. If you have received this email in error please notify the \n",
      "system manager. This message contains confidential information and is \n",
      "intended only for the individual named. If you are not the named addressee \n",
      "you should not disseminate, distribute or copy this e-mail. Please notify \n",
      "the sender immediately by e-mail if you have received this e-mail by \n",
      "mistake and delete this e-mail from your system. If you are not the \n",
      "intended recipient you are notified that disclosing, copying, distributing \n",
      "or taking any action in reliance on the contents of this information is \n",
      "strictly prohibited.\n",
      "\n"
     ]
    }
   ],
   "source": [
    "if msg.is_multipart():\n",
    "    # Iterate over the parts\n",
    "    for part in msg.get_payload():\n",
    "        # Print the body of each part\n",
    "        if part.get_content_type() == 'text/plain':\n",
    "            print(part.get_payload() )\n",
    "else:\n",
    "    # Print the body of the email\n",
    "    print(msg.get_payload())"
   ]
  },
  {
   "cell_type": "code",
   "execution_count": null,
   "metadata": {},
   "outputs": [],
   "source": []
  }
 ],
 "metadata": {
  "kernelspec": {
   "display_name": "Python 3",
   "language": "python",
   "name": "python3"
  },
  "language_info": {
   "codemirror_mode": {
    "name": "ipython",
    "version": 3
   },
   "file_extension": ".py",
   "mimetype": "text/x-python",
   "name": "python",
   "nbconvert_exporter": "python",
   "pygments_lexer": "ipython3",
   "version": "3.10.2"
  },
  "orig_nbformat": 4,
  "vscode": {
   "interpreter": {
    "hash": "aee8b7b246df8f9039afb4144a1f6fd8d2ca17a180786b69acc140d282b71a49"
   }
  }
 },
 "nbformat": 4,
 "nbformat_minor": 2
}
